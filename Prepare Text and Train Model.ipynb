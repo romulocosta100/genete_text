{
 "cells": [
  {
   "cell_type": "code",
   "execution_count": 1,
   "metadata": {},
   "outputs": [
    {
     "name": "stderr",
     "output_type": "stream",
     "text": [
      "Using TensorFlow backend.\n"
     ]
    }
   ],
   "source": [
    "from numpy import array\n",
    "from pickle import dump\n",
    "from keras.preprocessing.text import Tokenizer\n",
    "from keras.utils import to_categorical\n",
    "from keras.models import Sequential\n",
    "from keras.layers import Dense\n",
    "from keras.layers import LSTM\n",
    "from keras.layers import Embedding\n",
    "import numpy as np\n",
    "import string"
   ]
  },
  {
   "cell_type": "markdown",
   "metadata": {},
   "source": [
    "# Data Preparation"
   ]
  },
  {
   "cell_type": "markdown",
   "metadata": {},
   "source": [
    "Load text"
   ]
  },
  {
   "cell_type": "code",
   "execution_count": 2,
   "metadata": {},
   "outputs": [],
   "source": [
    "file = open(\"DATASETS/livros.txt\")\n",
    "doc = file.read()"
   ]
  },
  {
   "cell_type": "markdown",
   "metadata": {},
   "source": [
    "Clean text"
   ]
  },
  {
   "cell_type": "code",
   "execution_count": 3,
   "metadata": {},
   "outputs": [],
   "source": [
    "# turn a doc into clean tokens\n",
    "def clean_doc(doc):\n",
    "    # replace '--' with a space ' '\n",
    "    doc = doc.replace('--', ' ')\n",
    "    # split into tokens by white space\n",
    "    tokens = doc.split()\n",
    "    # remove punctuation from each token\n",
    "    table = str.maketrans('', '', string.punctuation)\n",
    "    tokens = [w.translate(table) for w in tokens]\n",
    "    # remove remaining tokens that are not alphabetic\n",
    "    tokens = [word for word in tokens if word.isalpha()]\n",
    "    # make lower case\n",
    "    tokens = [word.lower() for word in tokens]\n",
    "    return tokens"
   ]
  },
  {
   "cell_type": "code",
   "execution_count": 4,
   "metadata": {},
   "outputs": [],
   "source": [
    "tokens = clean_doc(doc)"
   ]
  },
  {
   "cell_type": "code",
   "execution_count": 5,
   "metadata": {},
   "outputs": [
    {
     "name": "stdout",
     "output_type": "stream",
     "text": [
      "Total Tokens: 109609\n",
      "Unique Tokens: 15144\n"
     ]
    }
   ],
   "source": [
    "print('Total Tokens: %d' % len(tokens))\n",
    "print('Unique Tokens: %d' % len(set(tokens)))"
   ]
  },
  {
   "cell_type": "markdown",
   "metadata": {},
   "source": [
    "Make sequences"
   ]
  },
  {
   "cell_type": "code",
   "execution_count": 6,
   "metadata": {},
   "outputs": [
    {
     "name": "stdout",
     "output_type": "stream",
     "text": [
      "Total Sequences: 109558\n"
     ]
    }
   ],
   "source": [
    "# organize into sequences of tokens\n",
    "length = 50 + 1\n",
    "sequences = list()\n",
    "for i in range(length, len(tokens)):\n",
    "    # select sequence of tokens\n",
    "    seq = tokens[i-length:i]\n",
    "    # convert into a line\n",
    "    line = ' '.join(seq)\n",
    "    #print(len(line))\n",
    "    # store\n",
    "    sequences.append(line)\n",
    "print('Total Sequences: %d' % len(sequences))"
   ]
  },
  {
   "cell_type": "code",
   "execution_count": 7,
   "metadata": {},
   "outputs": [],
   "source": [
    "# save tokens to file, one dialog per line\n",
    "def save_doc(lines, filename):\n",
    "    data = '\\n'.join(lines)\n",
    "    file = open(filename, 'w')\n",
    "    file.write(data)\n",
    "    file.close()\n",
    "    \n",
    "out_filename = 'model/livros_sequences.txt'\n",
    "save_doc(sequences,out_filename)"
   ]
  },
  {
   "cell_type": "markdown",
   "metadata": {},
   "source": [
    "Encode Sequences"
   ]
  },
  {
   "cell_type": "code",
   "execution_count": 8,
   "metadata": {},
   "outputs": [],
   "source": [
    "# integer encode sequences of words\n",
    "tokenizer = Tokenizer()\n",
    "tokenizer.fit_on_texts(sequences)\n",
    "sequences = tokenizer.texts_to_sequences(sequences)\n",
    "\n",
    "# vocabulary size\n",
    "vocab_size = len(tokenizer.word_index) + 1"
   ]
  },
  {
   "cell_type": "markdown",
   "metadata": {},
   "source": [
    "Sequence Inputs and Output"
   ]
  },
  {
   "cell_type": "code",
   "execution_count": 9,
   "metadata": {},
   "outputs": [],
   "source": [
    "sequences = array(sequences)\n",
    "X, y = sequences[:,:-1], sequences[:,-1]\n",
    "y = to_categorical(y, num_classes=vocab_size)"
   ]
  },
  {
   "cell_type": "markdown",
   "metadata": {},
   "source": [
    "# Train Language Model"
   ]
  },
  {
   "cell_type": "code",
   "execution_count": 10,
   "metadata": {},
   "outputs": [
    {
     "name": "stdout",
     "output_type": "stream",
     "text": [
      "WARNING:tensorflow:From /home/romulo/anaconda3/lib/python3.6/site-packages/keras/backend/tensorflow_backend.py:1247: calling reduce_sum (from tensorflow.python.ops.math_ops) with keep_dims is deprecated and will be removed in a future version.\n",
      "Instructions for updating:\n",
      "keep_dims is deprecated, use keepdims instead\n",
      "_________________________________________________________________\n",
      "Layer (type)                 Output Shape              Param #   \n",
      "=================================================================\n",
      "embedding_1 (Embedding)      (None, 50, 50)            757250    \n",
      "_________________________________________________________________\n",
      "lstm_1 (LSTM)                (None, 50, 100)           60400     \n",
      "_________________________________________________________________\n",
      "lstm_2 (LSTM)                (None, 100)               80400     \n",
      "_________________________________________________________________\n",
      "dense_1 (Dense)              (None, 100)               10100     \n",
      "_________________________________________________________________\n",
      "dense_2 (Dense)              (None, 15145)             1529645   \n",
      "=================================================================\n",
      "Total params: 2,437,795\n",
      "Trainable params: 2,437,795\n",
      "Non-trainable params: 0\n",
      "_________________________________________________________________\n",
      "None\n"
     ]
    }
   ],
   "source": [
    "# define model\n",
    "model = Sequential()\n",
    "model.add(Embedding(vocab_size, 50, input_length=length-1))\n",
    "model.add(LSTM(100, return_sequences=True))\n",
    "model.add(LSTM(100))\n",
    "model.add(Dense(100, activation='relu'))\n",
    "model.add(Dense(vocab_size, activation='softmax'))\n",
    "print(model.summary())"
   ]
  },
  {
   "cell_type": "code",
   "execution_count": 11,
   "metadata": {},
   "outputs": [
    {
     "name": "stdout",
     "output_type": "stream",
     "text": [
      "WARNING:tensorflow:From /home/romulo/anaconda3/lib/python3.6/site-packages/keras/backend/tensorflow_backend.py:1349: calling reduce_mean (from tensorflow.python.ops.math_ops) with keep_dims is deprecated and will be removed in a future version.\n",
      "Instructions for updating:\n",
      "keep_dims is deprecated, use keepdims instead\n",
      "Epoch 1/100\n",
      "109558/109558 [==============================] - 182s 2ms/step - loss: 7.3179 - acc: 0.0401\n",
      "Epoch 2/100\n",
      "109558/109558 [==============================] - 177s 2ms/step - loss: 6.8388 - acc: 0.0527\n",
      "Epoch 3/100\n",
      "109558/109558 [==============================] - 185s 2ms/step - loss: 6.6747 - acc: 0.0591\n",
      "Epoch 4/100\n",
      "109558/109558 [==============================] - 180s 2ms/step - loss: 6.5754 - acc: 0.0622\n",
      "Epoch 5/100\n",
      "109558/109558 [==============================] - 182s 2ms/step - loss: 6.4789 - acc: 0.0670\n",
      "Epoch 6/100\n",
      "109558/109558 [==============================] - 183s 2ms/step - loss: 6.3242 - acc: 0.0747\n",
      "Epoch 7/100\n",
      "109558/109558 [==============================] - 189s 2ms/step - loss: 6.1492 - acc: 0.0815\n",
      "Epoch 8/100\n",
      "109558/109558 [==============================] - 188s 2ms/step - loss: 6.0044 - acc: 0.0909\n",
      "Epoch 9/100\n",
      "109558/109558 [==============================] - 191s 2ms/step - loss: 5.8798 - acc: 0.0964\n",
      "Epoch 10/100\n",
      "109558/109558 [==============================] - 175s 2ms/step - loss: 5.7667 - acc: 0.1026\n",
      "Epoch 11/100\n",
      "109558/109558 [==============================] - 179s 2ms/step - loss: 5.6602 - acc: 0.1093\n",
      "Epoch 12/100\n",
      "109558/109558 [==============================] - 190s 2ms/step - loss: 5.5537 - acc: 0.1148\n",
      "Epoch 13/100\n",
      "109558/109558 [==============================] - 230s 2ms/step - loss: 5.4482 - acc: 0.1211\n",
      "Epoch 14/100\n",
      "109558/109558 [==============================] - 211s 2ms/step - loss: 5.3422 - acc: 0.1269\n",
      "Epoch 15/100\n",
      "109558/109558 [==============================] - 180s 2ms/step - loss: 5.2381 - acc: 0.1304\n",
      "Epoch 16/100\n",
      "109558/109558 [==============================] - 190s 2ms/step - loss: 5.1348 - acc: 0.1353\n",
      "Epoch 17/100\n",
      "109558/109558 [==============================] - 189s 2ms/step - loss: 5.0288 - acc: 0.1400\n",
      "Epoch 18/100\n",
      "109558/109558 [==============================] - 195s 2ms/step - loss: 4.9255 - acc: 0.1440\n",
      "Epoch 19/100\n",
      "109558/109558 [==============================] - 187s 2ms/step - loss: 4.8249 - acc: 0.1476\n",
      "Epoch 20/100\n",
      "109558/109558 [==============================] - 190s 2ms/step - loss: 4.7229 - acc: 0.1532\n",
      "Epoch 21/100\n",
      "109558/109558 [==============================] - 194s 2ms/step - loss: 4.6227 - acc: 0.1593\n",
      "Epoch 22/100\n",
      "109558/109558 [==============================] - 193s 2ms/step - loss: 4.5308 - acc: 0.1652\n",
      "Epoch 23/100\n",
      "109558/109558 [==============================] - 184s 2ms/step - loss: 4.4409 - acc: 0.1715\n",
      "Epoch 24/100\n",
      "109558/109558 [==============================] - 195s 2ms/step - loss: 4.3579 - acc: 0.1777\n",
      "Epoch 25/100\n",
      "109558/109558 [==============================] - 196s 2ms/step - loss: 4.2753 - acc: 0.1856\n",
      "Epoch 26/100\n",
      "109558/109558 [==============================] - 196s 2ms/step - loss: 4.1971 - acc: 0.1932\n",
      "Epoch 27/100\n",
      "109558/109558 [==============================] - 185s 2ms/step - loss: 4.1228 - acc: 0.2020\n",
      "Epoch 28/100\n",
      "109558/109558 [==============================] - 188s 2ms/step - loss: 4.0513 - acc: 0.2091\n",
      "Epoch 29/100\n",
      "109558/109558 [==============================] - 189s 2ms/step - loss: 3.9836 - acc: 0.2168\n",
      "Epoch 30/100\n",
      "109558/109558 [==============================] - 178s 2ms/step - loss: 3.9171 - acc: 0.2248\n",
      "Epoch 31/100\n",
      "109558/109558 [==============================] - 189s 2ms/step - loss: 3.8517 - acc: 0.2320\n",
      "Epoch 32/100\n",
      "109558/109558 [==============================] - 193s 2ms/step - loss: 3.7928 - acc: 0.2402\n",
      "Epoch 33/100\n",
      "109558/109558 [==============================] - 191s 2ms/step - loss: 3.7351 - acc: 0.2483\n",
      "Epoch 34/100\n",
      "109558/109558 [==============================] - 192s 2ms/step - loss: 3.6721 - acc: 0.2573\n",
      "Epoch 35/100\n",
      "109558/109558 [==============================] - 207s 2ms/step - loss: 3.6158 - acc: 0.2656\n",
      "Epoch 36/100\n",
      "109558/109558 [==============================] - 196s 2ms/step - loss: 3.5592 - acc: 0.2732\n",
      "Epoch 37/100\n",
      "109558/109558 [==============================] - 197s 2ms/step - loss: 3.5044 - acc: 0.2810\n",
      "Epoch 38/100\n",
      "109558/109558 [==============================] - 206s 2ms/step - loss: 3.4523 - acc: 0.2891\n",
      "Epoch 39/100\n",
      "109558/109558 [==============================] - 204s 2ms/step - loss: 3.4029 - acc: 0.2973\n",
      "Epoch 40/100\n",
      "109558/109558 [==============================] - 194s 2ms/step - loss: 3.3519 - acc: 0.3036\n",
      "Epoch 41/100\n",
      "109558/109558 [==============================] - 204s 2ms/step - loss: 3.3011 - acc: 0.3112\n",
      "Epoch 42/100\n",
      "109558/109558 [==============================] - 199s 2ms/step - loss: 3.2509 - acc: 0.3189\n",
      "Epoch 43/100\n",
      "109558/109558 [==============================] - 208s 2ms/step - loss: 3.2029 - acc: 0.3275\n",
      "Epoch 44/100\n",
      "109558/109558 [==============================] - 205s 2ms/step - loss: 3.1614 - acc: 0.3343\n",
      "Epoch 45/100\n",
      "109558/109558 [==============================] - 213s 2ms/step - loss: 3.1144 - acc: 0.3428\n",
      "Epoch 46/100\n",
      "109558/109558 [==============================] - 181s 2ms/step - loss: 3.0673 - acc: 0.3510\n",
      "Epoch 47/100\n",
      "109558/109558 [==============================] - 197s 2ms/step - loss: 3.0281 - acc: 0.3557\n",
      "Epoch 48/100\n",
      "109558/109558 [==============================] - 200s 2ms/step - loss: 2.9820 - acc: 0.3646\n",
      "Epoch 49/100\n",
      "109558/109558 [==============================] - 200s 2ms/step - loss: 2.9407 - acc: 0.3689\n",
      "Epoch 50/100\n",
      "109558/109558 [==============================] - 192s 2ms/step - loss: 2.8967 - acc: 0.3781\n",
      "Epoch 51/100\n",
      "109558/109558 [==============================] - 190s 2ms/step - loss: 2.8563 - acc: 0.3850\n",
      "Epoch 52/100\n",
      "109558/109558 [==============================] - 188s 2ms/step - loss: 2.8188 - acc: 0.3918\n",
      "Epoch 53/100\n",
      "109558/109558 [==============================] - 179s 2ms/step - loss: 2.7762 - acc: 0.3990\n",
      "Epoch 54/100\n",
      "109558/109558 [==============================] - 178s 2ms/step - loss: 2.7387 - acc: 0.4043\n",
      "Epoch 55/100\n",
      "109558/109558 [==============================] - 178s 2ms/step - loss: 2.6987 - acc: 0.4122\n",
      "Epoch 56/100\n",
      "109558/109558 [==============================] - 178s 2ms/step - loss: 2.6632 - acc: 0.4183\n",
      "Epoch 57/100\n",
      "109558/109558 [==============================] - 178s 2ms/step - loss: 2.6234 - acc: 0.4247\n",
      "Epoch 58/100\n",
      "109558/109558 [==============================] - 179s 2ms/step - loss: 2.5863 - acc: 0.4323\n",
      "Epoch 59/100\n",
      "109558/109558 [==============================] - 179s 2ms/step - loss: 2.5518 - acc: 0.4379\n",
      "Epoch 60/100\n",
      "109558/109558 [==============================] - 179s 2ms/step - loss: 2.5158 - acc: 0.4446\n",
      "Epoch 61/100\n",
      "109558/109558 [==============================] - 192s 2ms/step - loss: 2.4778 - acc: 0.4513\n",
      "Epoch 62/100\n",
      "109558/109558 [==============================] - 218s 2ms/step - loss: 2.4413 - acc: 0.4576\n",
      "Epoch 63/100\n",
      "109558/109558 [==============================] - 227s 2ms/step - loss: 2.4091 - acc: 0.4641\n",
      "Epoch 64/100\n",
      "109558/109558 [==============================] - 207s 2ms/step - loss: 2.3754 - acc: 0.4693\n",
      "Epoch 65/100\n",
      "109558/109558 [==============================] - 214s 2ms/step - loss: 2.3446 - acc: 0.4771\n",
      "Epoch 66/100\n",
      "109558/109558 [==============================] - 195s 2ms/step - loss: 2.3224 - acc: 0.4798\n",
      "Epoch 67/100\n",
      "109558/109558 [==============================] - 241s 2ms/step - loss: 2.2733 - acc: 0.4889\n",
      "Epoch 68/100\n",
      "109558/109558 [==============================] - 201s 2ms/step - loss: 2.2462 - acc: 0.4936\n",
      "Epoch 69/100\n",
      "109558/109558 [==============================] - 184s 2ms/step - loss: 2.2166 - acc: 0.4993\n",
      "Epoch 70/100\n",
      "109558/109558 [==============================] - 187s 2ms/step - loss: 2.1855 - acc: 0.5053\n",
      "Epoch 71/100\n",
      "109558/109558 [==============================] - 231s 2ms/step - loss: 2.1592 - acc: 0.5119\n",
      "Epoch 72/100\n",
      "109558/109558 [==============================] - 198s 2ms/step - loss: 2.1308 - acc: 0.5162\n",
      "Epoch 73/100\n",
      "109558/109558 [==============================] - 208s 2ms/step - loss: 2.0968 - acc: 0.5226\n",
      "Epoch 74/100\n",
      "109558/109558 [==============================] - 199s 2ms/step - loss: 2.0720 - acc: 0.5279\n",
      "Epoch 75/100\n",
      "109558/109558 [==============================] - 204s 2ms/step - loss: 2.0413 - acc: 0.5355\n",
      "Epoch 76/100\n"
     ]
    },
    {
     "name": "stdout",
     "output_type": "stream",
     "text": [
      "109558/109558 [==============================] - 197s 2ms/step - loss: 2.0146 - acc: 0.5401\n",
      "Epoch 77/100\n",
      "109558/109558 [==============================] - 201s 2ms/step - loss: 1.9873 - acc: 0.5443\n",
      "Epoch 78/100\n",
      "109558/109558 [==============================] - 191s 2ms/step - loss: 1.9637 - acc: 0.5494\n",
      "Epoch 79/100\n",
      "109558/109558 [==============================] - 200s 2ms/step - loss: 1.9366 - acc: 0.5545\n",
      "Epoch 80/100\n",
      "109558/109558 [==============================] - 198s 2ms/step - loss: 1.9075 - acc: 0.5598\n",
      "Epoch 81/100\n",
      "109558/109558 [==============================] - 184s 2ms/step - loss: 1.8838 - acc: 0.5649\n",
      "Epoch 82/100\n",
      "109558/109558 [==============================] - 186s 2ms/step - loss: 1.8570 - acc: 0.5700\n",
      "Epoch 83/100\n",
      "109558/109558 [==============================] - 191s 2ms/step - loss: 1.8340 - acc: 0.5737\n",
      "Epoch 84/100\n",
      "109558/109558 [==============================] - 204s 2ms/step - loss: 1.8086 - acc: 0.5799\n",
      "Epoch 85/100\n",
      "109558/109558 [==============================] - 206s 2ms/step - loss: 1.7817 - acc: 0.5862\n",
      "Epoch 86/100\n",
      "109558/109558 [==============================] - 207s 2ms/step - loss: 1.7594 - acc: 0.5897\n",
      "Epoch 87/100\n",
      "109558/109558 [==============================] - 199s 2ms/step - loss: 1.7422 - acc: 0.5926\n",
      "Epoch 88/100\n",
      "109558/109558 [==============================] - 195s 2ms/step - loss: 1.7114 - acc: 0.5983\n",
      "Epoch 89/100\n",
      "109558/109558 [==============================] - 195s 2ms/step - loss: 1.6849 - acc: 0.6054\n",
      "Epoch 90/100\n",
      "109558/109558 [==============================] - 194s 2ms/step - loss: 1.6707 - acc: 0.6066\n",
      "Epoch 91/100\n",
      "109558/109558 [==============================] - 193s 2ms/step - loss: 1.6468 - acc: 0.6124\n",
      "Epoch 92/100\n",
      "109558/109558 [==============================] - 207s 2ms/step - loss: 1.6221 - acc: 0.6170\n",
      "Epoch 93/100\n",
      "109558/109558 [==============================] - 196s 2ms/step - loss: 1.6014 - acc: 0.6216\n",
      "Epoch 94/100\n",
      "109558/109558 [==============================] - 193s 2ms/step - loss: 1.5788 - acc: 0.6280\n",
      "Epoch 95/100\n",
      "109558/109558 [==============================] - 203s 2ms/step - loss: 1.5562 - acc: 0.6315\n",
      "Epoch 96/100\n",
      "109558/109558 [==============================] - 195s 2ms/step - loss: 1.5374 - acc: 0.6355\n",
      "Epoch 97/100\n",
      "109558/109558 [==============================] - 269s 2ms/step - loss: 1.5173 - acc: 0.6398\n",
      "Epoch 98/100\n",
      "109558/109558 [==============================] - 203s 2ms/step - loss: 1.4914 - acc: 0.6458\n",
      "Epoch 99/100\n",
      "109558/109558 [==============================] - 191s 2ms/step - loss: 1.4739 - acc: 0.6478\n",
      "Epoch 100/100\n",
      "109558/109558 [==============================] - 201s 2ms/step - loss: 1.4621 - acc: 0.6513\n"
     ]
    },
    {
     "data": {
      "text/plain": [
       "<keras.callbacks.History at 0x7f6b07de7ef0>"
      ]
     },
     "execution_count": 11,
     "metadata": {},
     "output_type": "execute_result"
    }
   ],
   "source": [
    "# compile model\n",
    "model.compile(loss='categorical_crossentropy', optimizer='adam', metrics=['accuracy'])\n",
    "# fit model\n",
    "model.fit(X, y, batch_size=128, epochs=100)"
   ]
  },
  {
   "cell_type": "markdown",
   "metadata": {},
   "source": [
    "# Save Model"
   ]
  },
  {
   "cell_type": "code",
   "execution_count": 12,
   "metadata": {},
   "outputs": [],
   "source": [
    "# save the model to file\n",
    "model.save('model/livros_model.h5')\n",
    "# save the tokenizer\n",
    "dump(tokenizer, open('model/livros_tokenizer.pkl', 'wb'))\n",
    "#save "
   ]
  },
  {
   "cell_type": "code",
   "execution_count": null,
   "metadata": {},
   "outputs": [],
   "source": []
  }
 ],
 "metadata": {
  "kernelspec": {
   "display_name": "Python 3",
   "language": "python",
   "name": "python3"
  },
  "language_info": {
   "codemirror_mode": {
    "name": "ipython",
    "version": 3
   },
   "file_extension": ".py",
   "mimetype": "text/x-python",
   "name": "python",
   "nbconvert_exporter": "python",
   "pygments_lexer": "ipython3",
   "version": "3.6.5"
  }
 },
 "nbformat": 4,
 "nbformat_minor": 2
}
